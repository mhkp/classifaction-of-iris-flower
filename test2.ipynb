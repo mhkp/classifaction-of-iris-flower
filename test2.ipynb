{
  "nbformat": 4,
  "nbformat_minor": 0,
  "metadata": {
    "colab": {
      "provenance": [],
      "authorship_tag": "ABX9TyPCCJgw/vUkgAZhUmSN0xm/",
      "include_colab_link": true
    },
    "kernelspec": {
      "name": "python3",
      "display_name": "Python 3"
    },
    "language_info": {
      "name": "python"
    }
  },
  "cells": [
    {
      "cell_type": "markdown",
      "metadata": {
        "id": "view-in-github",
        "colab_type": "text"
      },
      "source": [
        "<a href=\"https://colab.research.google.com/github/mhkp/classifaction-of-iris-flower/blob/main/test2.ipynb\" target=\"_parent\"><img src=\"https://colab.research.google.com/assets/colab-badge.svg\" alt=\"Open In Colab\"/></a>"
      ]
    },
    {
      "cell_type": "code",
      "execution_count": 1,
      "metadata": {
        "colab": {
          "base_uri": "https://localhost:8080/"
        },
        "id": "yqGBdKm2tXlt",
        "outputId": "cd7b9d12-4ee1-44f2-9889-aa94afe0c2ef"
      },
      "outputs": [
        {
          "output_type": "stream",
          "name": "stdout",
          "text": [
            "Project directory created: /content/task_tracker_cli\n"
          ]
        }
      ],
      "source": [
        "import os\n",
        "\n",
        "# Define project directory\n",
        "project_dir = \"/content/task_tracker_cli\"\n",
        "\n",
        "# Create directory if it doesn't exist\n",
        "os.makedirs(project_dir, exist_ok=True)\n",
        "\n",
        "print(f\"Project directory created: {project_dir}\")"
      ]
    },
    {
      "cell_type": "code",
      "source": [
        "# Navigate to project directory\n",
        "%cd /content/task_tracker_cli"
      ],
      "metadata": {
        "colab": {
          "base_uri": "https://localhost:8080/"
        },
        "id": "ssLYa5inttXf",
        "outputId": "fcb50f2e-e988-4430-c72c-758aef9e2c9b"
      },
      "execution_count": 2,
      "outputs": [
        {
          "output_type": "stream",
          "name": "stdout",
          "text": [
            "/content/task_tracker_cli\n"
          ]
        }
      ]
    },
    {
      "cell_type": "code",
      "source": [
        "!git remote remove origin  # Remove any incorrect remote (if added)\n",
        "!git remote add origin https://github.com/mhkp/task-tracker-cli.git\n",
        "!git remote -v  # Verify the remote URL"
      ],
      "metadata": {
        "colab": {
          "base_uri": "https://localhost:8080/"
        },
        "id": "ORVmMb3RuwTG",
        "outputId": "4e3651d2-3296-4bbc-ba4a-456daba9c3eb"
      },
      "execution_count": 16,
      "outputs": [
        {
          "output_type": "stream",
          "name": "stdout",
          "text": [
            "origin\thttps://github.com/mhkp/task-tracker-cli.git (fetch)\n",
            "origin\thttps://github.com/mhkp/task-tracker-cli.git (push)\n"
          ]
        }
      ]
    }
  ]
}